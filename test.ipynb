{
 "cells": [
  {
   "cell_type": "code",
   "execution_count": 6,
   "metadata": {},
   "outputs": [],
   "source": [
    "import pickle\n",
    "\n",
    "# Load the popular.pkl file\n",
    "popular_df = pickle.load(open('popular.pkl', 'rb'))\n",
    "books = pickle.load(open('books.pkl', 'rb'))\n",
    "# Check if a book is in the dataset\n",
    "book_name = \"1984\"\n",
    "book_in_popular = popular_df[popular_df['Book-Title'] == book_name]\n",
    "\n"
   ]
  },
  {
   "cell_type": "code",
   "execution_count": 4,
   "metadata": {},
   "outputs": [
    {
     "name": "stdout",
     "output_type": "stream",
     "text": [
      "Book found in popular data!\n"
     ]
    }
   ],
   "source": [
    "\n",
    "\n",
    "if book_in_popular.empty:\n",
    "    print(\"Book not found in popular data\")\n",
    "else:\n",
    "    print(\"Book found in popular data!\")\n"
   ]
  },
  {
   "cell_type": "code",
   "execution_count": 10,
   "metadata": {},
   "outputs": [
    {
     "name": "stdout",
     "output_type": "stream",
     "text": [
      "0                                  Classical Mythology\n",
      "1                                         Clara Callan\n",
      "2                                 Decision in Normandy\n",
      "3    Flu: The Story of the Great Influenza Pandemic...\n",
      "4                               The Mummies of Urumchi\n",
      "Name: Book-Title, dtype: object\n",
      "0     Harry Potter and the Prisoner of Azkaban (Book 3)\n",
      "3          Harry Potter and the Goblet of Fire (Book 4)\n",
      "5        Harry Potter and the Sorcerer's Stone (Book 1)\n",
      "9     Harry Potter and the Order of the Phoenix (Boo...\n",
      "13     Harry Potter and the Chamber of Secrets (Book 2)\n",
      "Name: Book-Title, dtype: object\n"
     ]
    }
   ],
   "source": [
    "print(books['Book-Title'].head())  # From books.pkl\n",
    "print(popular_df['Book-Title'].head())\n",
    "  # From popular.pkl"
   ]
  },
  {
   "cell_type": "code",
   "execution_count": 8,
   "metadata": {},
   "outputs": [
    {
     "name": "stdout",
     "output_type": "stream",
     "text": [
      "0     Harry Potter and the Prisoner of Azkaban (Book 3)\n",
      "3          Harry Potter and the Goblet of Fire (Book 4)\n",
      "5        Harry Potter and the Sorcerer's Stone (Book 1)\n",
      "9     Harry Potter and the Order of the Phoenix (Boo...\n",
      "13     Harry Potter and the Chamber of Secrets (Book 2)\n",
      "Name: Book-Title, dtype: object\n"
     ]
    }
   ],
   "source": [
    "print(popular_df['Book-Title'].head())"
   ]
  },
  {
   "cell_type": "code",
   "execution_count": null,
   "metadata": {},
   "outputs": [],
   "source": []
  }
 ],
 "metadata": {
  "kernelspec": {
   "display_name": "base",
   "language": "python",
   "name": "python3"
  },
  "language_info": {
   "codemirror_mode": {
    "name": "ipython",
    "version": 3
   },
   "file_extension": ".py",
   "mimetype": "text/x-python",
   "name": "python",
   "nbconvert_exporter": "python",
   "pygments_lexer": "ipython3",
   "version": "3.9.12"
  }
 },
 "nbformat": 4,
 "nbformat_minor": 2
}
